{
  "nbformat": 4,
  "nbformat_minor": 0,
  "metadata": {
    "colab": {
      "provenance": [],
      "authorship_tag": "ABX9TyMe1r+wpRTW0PG5zd4IizBg",
      "include_colab_link": true
    },
    "kernelspec": {
      "name": "python3",
      "display_name": "Python 3"
    },
    "language_info": {
      "name": "python"
    }
  },
  "cells": [
    {
      "cell_type": "markdown",
      "metadata": {
        "id": "view-in-github",
        "colab_type": "text"
      },
      "source": [
        "<a href=\"https://colab.research.google.com/github/PIYUSH9760/python_classes/blob/main/Class_Car.ipynb\" target=\"_parent\"><img src=\"https://colab.research.google.com/assets/colab-badge.svg\" alt=\"Open In Colab\"/></a>"
      ]
    },
    {
      "cell_type": "code",
      "execution_count": 19,
      "metadata": {
        "colab": {
          "base_uri": "https://localhost:8080/"
        },
        "id": "Qu7rSsRzaJ8S",
        "outputId": "91c8d07c-a813-4c5f-a1e1-d3ca3f374d8e"
      },
      "outputs": [
        {
          "output_type": "stream",
          "name": "stdout",
          "text": [
            "Speed of the car is 80mph.\n"
          ]
        }
      ],
      "source": [
        "class Car:            #Class is a blueprint.\n",
        "  def car_speed(self):         #or none\n",
        "    print(\"Speed of the car is 80mph.\")\n",
        "  def car_variant(self):       # or none\n",
        "    print(\"Diesel and Turbo.\")\n",
        "\n",
        "A=Car()      #Car() is an object and we assign a reference of it to A, or an instance of Car() to A.\n",
        "A.car_speed()"
      ]
    }
  ]
}