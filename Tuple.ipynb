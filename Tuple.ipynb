{
  "nbformat": 4,
  "nbformat_minor": 0,
  "metadata": {
    "colab": {
      "provenance": [],
      "authorship_tag": "ABX9TyMzoynzAtYY6DVH8ULckdYu",
      "include_colab_link": true
    },
    "kernelspec": {
      "name": "python3",
      "display_name": "Python 3"
    },
    "language_info": {
      "name": "python"
    }
  },
  "cells": [
    {
      "cell_type": "markdown",
      "metadata": {
        "id": "view-in-github",
        "colab_type": "text"
      },
      "source": [
        "<a href=\"https://colab.research.google.com/github/PIYUSH9760/python_classes/blob/main/Tuple.ipynb\" target=\"_parent\"><img src=\"https://colab.research.google.com/assets/colab-badge.svg\" alt=\"Open In Colab\"/></a>"
      ]
    },
    {
      "cell_type": "code",
      "execution_count": 16,
      "metadata": {
        "colab": {
          "base_uri": "https://localhost:8080/"
        },
        "id": "Qu7rSsRzaJ8S",
        "outputId": "71a02fd2-911f-4f84-f78a-73c164a26add"
      },
      "outputs": [
        {
          "output_type": "stream",
          "name": "stdout",
          "text": [
            "22\n",
            "33\n",
            "44\n",
            "Brishav\n",
            "Ninety\n",
            "67\n",
            "12\n",
            "Hello\n",
            "66\n",
            "World\n"
          ]
        }
      ],
      "source": [
        "#3. Write a program to create a tuple and add 10 values to it and print all those values using a for loop.\n",
        "tuple_1 = (22, 33, 44, \"Piyush\", \"Ninety\", 67, 12, \"Hello\", 66, \"World\")\n",
        "for i in range(0, 10):\n",
        "  print(tuple_1[i])"
      ]
    }
  ]
}