{
  "nbformat": 4,
  "nbformat_minor": 0,
  "metadata": {
    "colab": {
      "provenance": [],
      "authorship_tag": "ABX9TyM2ex76t253fYBFcCwKzuxB",
      "include_colab_link": true
    },
    "kernelspec": {
      "name": "python3",
      "display_name": "Python 3"
    },
    "language_info": {
      "name": "python"
    }
  },
  "cells": [
    {
      "cell_type": "markdown",
      "metadata": {
        "id": "view-in-github",
        "colab_type": "text"
      },
      "source": [
        "<a href=\"https://colab.research.google.com/github/PIYUSH9760/python_classes/blob/main/Practice_6.ipynb\" target=\"_parent\"><img src=\"https://colab.research.google.com/assets/colab-badge.svg\" alt=\"Open In Colab\"/></a>"
      ]
    },
    {
      "cell_type": "code",
      "execution_count": 9,
      "metadata": {
        "id": "pZslbaJzB8GR",
        "colab": {
          "base_uri": "https://localhost:8080/"
        },
        "outputId": "30ed1c31-4417-4921-e815-9e55623fba9e"
      },
      "outputs": [
        {
          "output_type": "stream",
          "name": "stdout",
          "text": [
            "Enter  a string Hello\n",
            "Enter the no of copies to be printed 5\n",
            "HeHeHeHeHe\n"
          ]
        }
      ],
      "source": [
        "# Write a  Python program to get n (non-negative integer) copies of the first 2 characters of a given string.\n",
        "# Return n copies of the whole string if the length is less than 2.\n",
        "\n",
        "a=input(\"Enter  a string \")\n",
        "n=int(input(\"Enter the no of copies to be printed \"))\n",
        "if(len(a)<=2):\n",
        "  print(a*n)\n",
        "else:\n",
        "  substrng = a[:2]\n",
        "  print(substrng*n)"
      ]
    }
  ]
}