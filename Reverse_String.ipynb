{
  "nbformat": 4,
  "nbformat_minor": 0,
  "metadata": {
    "colab": {
      "provenance": [],
      "authorship_tag": "ABX9TyOVBxJZtRW2o/wLteKkmNE3",
      "include_colab_link": true
    },
    "kernelspec": {
      "name": "python3",
      "display_name": "Python 3"
    },
    "language_info": {
      "name": "python"
    }
  },
  "cells": [
    {
      "cell_type": "markdown",
      "metadata": {
        "id": "view-in-github",
        "colab_type": "text"
      },
      "source": [
        "<a href=\"https://colab.research.google.com/github/PIYUSH9760/python_classes/blob/main/Reverse_String.ipynb\" target=\"_parent\"><img src=\"https://colab.research.google.com/assets/colab-badge.svg\" alt=\"Open In Colab\"/></a>"
      ]
    },
    {
      "cell_type": "code",
      "execution_count": 2,
      "metadata": {
        "colab": {
          "base_uri": "https://localhost:8080/"
        },
        "id": "Qu7rSsRzaJ8S",
        "outputId": "9bd86b30-69d7-4399-fa41-c0532e988579"
      },
      "outputs": [
        {
          "output_type": "stream",
          "name": "stdout",
          "text": [
            "Enter a string:Piyush Nautiyal\n",
            "The Reversed string is: layituaN hsuyiP\n"
          ]
        }
      ],
      "source": [
        "#Write a function to reverse a string.\n",
        "def revstring(str1):\n",
        "  n=len(str1)\n",
        "  str2=''\n",
        "  for i in range(n-1,-1,-1):\n",
        "    str2+=str1[i]\n",
        "  return str2\n",
        "str1=input(\"Enter a string:\")\n",
        "str2=revstring(str1)\n",
        "print(\"The Reversed string is:\",str2)"
      ]
    }
  ]
}