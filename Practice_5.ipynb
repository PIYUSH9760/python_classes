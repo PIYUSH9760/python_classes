{
  "nbformat": 4,
  "nbformat_minor": 0,
  "metadata": {
    "colab": {
      "provenance": [],
      "authorship_tag": "ABX9TyOF5wouR1f3AkCHJAqs/Lwt",
      "include_colab_link": true
    },
    "kernelspec": {
      "name": "python3",
      "display_name": "Python 3"
    },
    "language_info": {
      "name": "python"
    }
  },
  "cells": [
    {
      "cell_type": "markdown",
      "metadata": {
        "id": "view-in-github",
        "colab_type": "text"
      },
      "source": [
        "<a href=\"https://colab.research.google.com/github/PIYUSH9760/python_classes/blob/main/Practice_5.ipynb\" target=\"_parent\"><img src=\"https://colab.research.google.com/assets/colab-badge.svg\" alt=\"Open In Colab\"/></a>"
      ]
    },
    {
      "cell_type": "code",
      "execution_count": 4,
      "metadata": {
        "colab": {
          "base_uri": "https://localhost:8080/"
        },
        "id": "pZslbaJzB8GR",
        "outputId": "30b8c3f7-9ce9-4230-b103-8a84baa43c77"
      },
      "outputs": [
        {
          "output_type": "stream",
          "name": "stdout",
          "text": [
            "enter a number to be checked3\n",
            "3 occurs 4 number of time in the List\n"
          ]
        }
      ],
      "source": [
        "# Write a Python program to count a given number in a given list.\n",
        "\n",
        "# SOLUTION\n",
        "list1=[2,5,8,4,7,9,3,6,2,1,3,7,8,0,5,3,2,6,2,3,7,99]\n",
        "a=int(input(\"enter a number to be checked\"))\n",
        "b=list1.count(a)\n",
        "print(a,\"occurs\",b,\"number of time in the List\")\n"
      ]
    }
  ]
}