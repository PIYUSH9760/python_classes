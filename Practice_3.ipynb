{
  "nbformat": 4,
  "nbformat_minor": 0,
  "metadata": {
    "colab": {
      "provenance": [],
      "authorship_tag": "ABX9TyNqnEAlwTfIOl2KnpiUWhhK",
      "include_colab_link": true
    },
    "kernelspec": {
      "name": "python3",
      "display_name": "Python 3"
    },
    "language_info": {
      "name": "python"
    }
  },
  "cells": [
    {
      "cell_type": "markdown",
      "metadata": {
        "id": "view-in-github",
        "colab_type": "text"
      },
      "source": [
        "<a href=\"https://colab.research.google.com/github/PIYUSH9760/python_classes/blob/main/Practice_3.ipynb\" target=\"_parent\"><img src=\"https://colab.research.google.com/assets/colab-badge.svg\" alt=\"Open In Colab\"/></a>"
      ]
    },
    {
      "cell_type": "code",
      "execution_count": 8,
      "metadata": {
        "colab": {
          "base_uri": "https://localhost:8080/"
        },
        "id": "YNYb8W9HIRIv",
        "outputId": "4b9af335-93c9-4353-b36b-b13d0fe8e063"
      },
      "outputs": [
        {
          "output_type": "stream",
          "name": "stdout",
          "text": [
            "enter a stringHelllo\n",
            "enter the number of copies you wanted2\n",
            "which character or special symbol you want to seperate it with,\n",
            "HellloHelllo\n"
          ]
        }
      ],
      "source": [
        "# Write a Python program that returns a string that is n (non-negative integer) copies of a given string.\n",
        "\n",
        "# SOLUTION\n",
        "\n",
        "a=input(\"enter a string\")\n",
        "n=int(input(\"enter the number of copies you wanted\"))\n",
        "print(a*n)"
      ]
    }
  ]
}