{
  "nbformat": 4,
  "nbformat_minor": 0,
  "metadata": {
    "colab": {
      "provenance": [],
      "authorship_tag": "ABX9TyOuwTj82JbV4NP/z0Fm2rgN",
      "include_colab_link": true
    },
    "kernelspec": {
      "name": "python3",
      "display_name": "Python 3"
    },
    "language_info": {
      "name": "python"
    }
  },
  "cells": [
    {
      "cell_type": "markdown",
      "metadata": {
        "id": "view-in-github",
        "colab_type": "text"
      },
      "source": [
        "<a href=\"https://colab.research.google.com/github/PIYUSH9760/python_classes/blob/main/Car_Game.ipynb\" target=\"_parent\"><img src=\"https://colab.research.google.com/assets/colab-badge.svg\" alt=\"Open In Colab\"/></a>"
      ]
    },
    {
      "cell_type": "code",
      "execution_count": null,
      "metadata": {
        "id": "Qu7rSsRzaJ8S"
      },
      "outputs": [],
      "source": [
        "#Write a program to show whether a car has started or stopped\n",
        "cmd=\"\"\n",
        "repeat=False\n",
        "while (cmd.upper() != \"EXIT\"):\n",
        "  cmd=input(\"Choose:\\n1.Start\\n2.Stop\\n3.Help\\n4.Exit\\n\")\n",
        "  if cmd.upper()==\"START\":\n",
        "    if repeat==True:\n",
        "      print(\"The Car is already running! \")\n",
        "    else:\n",
        "      print(\"The Car has started!\")\n",
        "      repeat=True\n",
        "  elif cmd.upper()==\"STOP\":\n",
        "    if repeat==True:\n",
        "       print(\"The car has stopped\")\n",
        "    else:\n",
        "      print(\"The car has already stopped\")\n",
        "      repeat=False\n",
        "  elif cmd.upper()==\"HELP\":\n",
        "    print(\"1.start=Car will start\\n2.Stop=Car will stop\\n3.Exit=To exit the program\")\n",
        "  elif cmd.upper()==\"EXIT\":\n",
        "    print(\"Thanks for playing!\")\n",
        "    break\n",
        "  else:\n",
        "    print(\"Sorry, I dont understand the command\")"
      ]
    }
  ]
}