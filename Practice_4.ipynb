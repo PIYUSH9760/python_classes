{
  "nbformat": 4,
  "nbformat_minor": 0,
  "metadata": {
    "colab": {
      "provenance": [],
      "authorship_tag": "ABX9TyMCF00i35Vd4q9ROk5tmF2W",
      "include_colab_link": true
    },
    "kernelspec": {
      "name": "python3",
      "display_name": "Python 3"
    },
    "language_info": {
      "name": "python"
    }
  },
  "cells": [
    {
      "cell_type": "markdown",
      "metadata": {
        "id": "view-in-github",
        "colab_type": "text"
      },
      "source": [
        "<a href=\"https://colab.research.google.com/github/PIYUSH9760/python_classes/blob/main/Practice_4.ipynb\" target=\"_parent\"><img src=\"https://colab.research.google.com/assets/colab-badge.svg\" alt=\"Open In Colab\"/></a>"
      ]
    },
    {
      "cell_type": "code",
      "execution_count": 3,
      "metadata": {
        "colab": {
          "base_uri": "https://localhost:8080/"
        },
        "id": "pZslbaJzB8GR",
        "outputId": "de67c6f5-4d8a-4260-fe31-9ff080eee1e6"
      },
      "outputs": [
        {
          "output_type": "stream",
          "name": "stdout",
          "text": [
            "enter a number to be checked56\n",
            "56 is an Even Number \n"
          ]
        }
      ],
      "source": [
        "# Write a Python program that determines whether a given number (accepted from the user) is even or odd\n",
        "# and prints an appropriate message to the user.\n",
        "\n",
        "# SOLUTION\n",
        "\n",
        "a=int(input(\"enter a number to be checked\"))\n",
        "print(a,\"is an Even Number \")if (a%2==0) else print(a,\"is an Odd Number \")"
      ]
    }
  ]
}