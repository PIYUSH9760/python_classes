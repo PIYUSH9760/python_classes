{
  "nbformat": 4,
  "nbformat_minor": 0,
  "metadata": {
    "colab": {
      "provenance": [],
      "include_colab_link": true
    },
    "kernelspec": {
      "name": "python3",
      "display_name": "Python 3"
    },
    "language_info": {
      "name": "python"
    }
  },
  "cells": [
    {
      "cell_type": "markdown",
      "metadata": {
        "id": "view-in-github",
        "colab_type": "text"
      },
      "source": [
        "<a href=\"https://colab.research.google.com/github/PIYUSH9760/python_classes/blob/main/Class_4.ipynb\" target=\"_parent\"><img src=\"https://colab.research.google.com/assets/colab-badge.svg\" alt=\"Open In Colab\"/></a>"
      ]
    },
    {
      "cell_type": "code",
      "execution_count": null,
      "metadata": {
        "id": "Th3RwLx5j66T"
      },
      "outputs": [],
      "source": [
        "#Write a program to calculate the roots of a quadratic equation.\n",
        "#Write a program to pass dictionary to a function.Name,sap,department,Batch for 5 entries."
      ]
    },
    {
      "cell_type": "code",
      "source": [
        "from math import sqrt"
      ],
      "metadata": {
        "id": "4O6iySWKoKx_"
      },
      "execution_count": null,
      "outputs": []
    },
    {
      "cell_type": "code",
      "source": [
        "#Write a program to calculate the roots of a quadratic equation.\n",
        "print(\"Enter the coefficients a,b and c of the quadratic equation:\")\n",
        "A=int(input(\"Enter a:\"))\n",
        "B=int(input(\"Enter b:\"))\n",
        "C=int(input(\"Enter c:\"))\n",
        "D=B**2-4*A*C\n",
        "E=sqrt(D)\n",
        "F=-B/2*A\n",
        "G=(-B+E)/(2*A)\n",
        "H=(-B-E)/(2*A)\n",
        "if D<0:\n",
        "  print(\"Roots are complex.\")\n",
        "if D==0:\n",
        "  print(\"Roots are :\",F,\",\",F)\n",
        "if D>0:\n",
        "  print(\"Roots are:\",G,\",\",H)"
      ],
      "metadata": {
        "colab": {
          "base_uri": "https://localhost:8080/"
        },
        "id": "IF2CK5b1k3yB",
        "outputId": "b03eee26-f6f5-49b0-800a-02acd65e50b3"
      },
      "execution_count": null,
      "outputs": [
        {
          "output_type": "stream",
          "name": "stdout",
          "text": [
            "Enter the coefficients a,b and c of the quadratic equation:\n",
            "Enter a:5\n",
            "Enter b:10\n",
            "Enter c:2\n",
            "Roots are: -0.2254033307585166 , -1.7745966692414832\n"
          ]
        }
      ]
    },
    {
      "cell_type": "code",
      "source": [
        "#Write a program to pass dictionary to a function.Name,sap,department,Batch for 5 entries.\n",
        "def display_student_details(student_data):\n",
        "\n",
        "    for key, value in student_data.items():\n",
        "        print(f\"{key.capitalize()}: {value}\")\n",
        "\n",
        "\n",
        "students = [\n",
        "    {\"name\": \"Nitin\", \"sap\": \"123456\", \"department\": \"CSE\", \"batch\": \"2023\"},\n",
        "    {\"name\": \"SHASHANK\", \"sap\": \"654321\", \"department\": \"ECE\", \"batch\": \"2022\"},\n",
        "    {\"name\": \"MRIDHUL\", \"sap\": \"987654\", \"department\": \"IT\", \"batch\": \"2021\"},\n",
        "    {\"name\": \"Srijan\", \"sap\": \"321098\", \"department\": \"ME\", \"batch\": \"2020\"},\n",
        "    {\"name\": \"Piyush\", \"sap\": \"789012\", \"department\": \"CE\", \"batch\": \"2019\"},\n",
        "]\n",
        "for student in students:\n",
        "    display_student_details(student)\n",
        "    print()"
      ],
      "metadata": {
        "id": "o4zOl8FSaByM",
        "colab": {
          "base_uri": "https://localhost:8080/"
        },
        "outputId": "d20413e0-c91f-4a2d-876f-858b8e6c5a4b"
      },
      "execution_count": 1,
      "outputs": [
        {
          "output_type": "stream",
          "name": "stdout",
          "text": [
            "Name: Nitin\n",
            "Sap: 123456\n",
            "Department: CSE\n",
            "Batch: 2023\n",
            "\n",
            "Name: SHASHANK\n",
            "Sap: 654321\n",
            "Department: ECE\n",
            "Batch: 2022\n",
            "\n",
            "Name: MRIDHUL\n",
            "Sap: 987654\n",
            "Department: IT\n",
            "Batch: 2021\n",
            "\n",
            "Name: Srijan\n",
            "Sap: 321098\n",
            "Department: ME\n",
            "Batch: 2020\n",
            "\n",
            "Name: Piyush\n",
            "Sap: 789012\n",
            "Department: CE\n",
            "Batch: 2019\n",
            "\n"
          ]
        }
      ]
    }
  ]
}