{
  "nbformat": 4,
  "nbformat_minor": 0,
  "metadata": {
    "colab": {
      "provenance": [],
      "authorship_tag": "ABX9TyM01SW3tLZZndb1zO9MKPsp",
      "include_colab_link": true
    },
    "kernelspec": {
      "name": "python3",
      "display_name": "Python 3"
    },
    "language_info": {
      "name": "python"
    }
  },
  "cells": [
    {
      "cell_type": "markdown",
      "metadata": {
        "id": "view-in-github",
        "colab_type": "text"
      },
      "source": [
        "<a href=\"https://colab.research.google.com/github/PIYUSH9760/python_classes/blob/main/Practice_9.ipynb\" target=\"_parent\"><img src=\"https://colab.research.google.com/assets/colab-badge.svg\" alt=\"Open In Colab\"/></a>"
      ]
    },
    {
      "cell_type": "code",
      "execution_count": 21,
      "metadata": {
        "id": "pZslbaJzB8GR",
        "colab": {
          "base_uri": "https://localhost:8080/"
        },
        "outputId": "97d0114b-13d3-4bf0-b9cc-f836de7f9248"
      },
      "outputs": [
        {
          "output_type": "stream",
          "name": "stdout",
          "text": [
            "@@\n",
            "@@@\n",
            "@@@@@@\n",
            "@@@@@\n",
            "  \n",
            "@\n",
            "@@\n",
            "@@@\n",
            "@@@@\n",
            "@@@@@\n"
          ]
        }
      ],
      "source": [
        "#Write a Python program to create a histogram from a given list of integers.\n",
        "\n",
        "def histogram(item):\n",
        "  alpha = \"@\"\n",
        "  for i in item:\n",
        "    print(alpha*i)\n",
        "\n",
        "histogram([2,3,6,5])\n",
        "print(\"  \")\n",
        "histogram([1,2,3,4,5])"
      ]
    }
  ]
}