{
  "nbformat": 4,
  "nbformat_minor": 0,
  "metadata": {
    "colab": {
      "provenance": [],
      "authorship_tag": "ABX9TyPD+d9JHdPzGB3+tVW0/PVw",
      "include_colab_link": true
    },
    "kernelspec": {
      "name": "python3",
      "display_name": "Python 3"
    },
    "language_info": {
      "name": "python"
    }
  },
  "cells": [
    {
      "cell_type": "markdown",
      "metadata": {
        "id": "view-in-github",
        "colab_type": "text"
      },
      "source": [
        "<a href=\"https://colab.research.google.com/github/PIYUSH9760/python_classes/blob/main/Operation_on_Strings.ipynb\" target=\"_parent\"><img src=\"https://colab.research.google.com/assets/colab-badge.svg\" alt=\"Open In Colab\"/></a>"
      ]
    },
    {
      "cell_type": "code",
      "execution_count": null,
      "metadata": {
        "id": "Qu7rSsRzaJ8S"
      },
      "outputs": [],
      "source": [
        "print(\"Operations on strings\")\n",
        "print(\"Concatenating two strings\")\n",
        "str1=input(\"Enter first string:\")\n",
        "str2=input(\"Enter second string:\")\n",
        "str3=str1+str2\n",
        "print(\"Concatenated string:\",str3)\n",
        "print(\"\\n\")\n",
        "print(\"Appending two strings\")\n",
        "str4=input(\"Enter a string:\")\n",
        "str5=input(\"Enter a string to be appended:\")\n",
        "str4+=str5\n",
        "print(\"Appended string is:\",str4)\n",
        "print(\"\\n\")\n",
        "print(\"Multiplying strings\")\n",
        "str6=input(\"Enter a string:\")\n",
        "n=int(input(\"Enter number of times to multiply the string:\"))\n",
        "print(str6*n)\n",
        "print(\"\\n\")\n",
        "print(\"Converting a string into lowercase\")\n",
        "str7=\"HELLO WORLD\"\n",
        "print(\"Before conversion:\",str7)\n",
        "print(\"After Conversion:\",str7.lower())\n",
        "print(\"\\n\")\n",
        "print(\"Converting a string into uppercase\")\n",
        "str8=\"hello world\"\n",
        "print(\"Before Conversion:\",str8)\n",
        "print(\"After Conversion:\",str8.upper())\n",
        "print(\"\\n\")\n",
        "print(\"Finding a substring in a string\")\n",
        "str9=input(\"Enter a string:\")\n",
        "str10=input(\"Enter substring:\")\n",
        "print(str9.find(str10,0,len(str9)))\n",
        "print(\"\\n\")\n",
        "print(\"Replacing a substring in a given string\")\n",
        "str11=\"Python for programming\"\n",
        "print(\"Before replacing:\",str11)\n",
        "print(\"After replacing:\",str11.replace(\"for\",\"4\"))\n",
        "print(\"\\n\")\n",
        "print(\"Swapping cases of characters in a given string\")\n",
        "str12=input(\"Enter a string:\")\n",
        "print(\"Swapping cases,we get:\",str12.swapcase())\n",
        "print(\"\\n\")\n",
        "print(\"Length of a String\")\n",
        "str13=input(\"Enter a string:\")\n",
        "print(\"Length of the entered string is:\",len(str13))"
      ]
    }
  ]
}