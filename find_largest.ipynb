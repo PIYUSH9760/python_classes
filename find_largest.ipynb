{
  "nbformat": 4,
  "nbformat_minor": 0,
  "metadata": {
    "colab": {
      "provenance": [],
      "authorship_tag": "ABX9TyP0PmACDmUIEmlzyfoSV9CS",
      "include_colab_link": true
    },
    "kernelspec": {
      "name": "python3",
      "display_name": "Python 3"
    },
    "language_info": {
      "name": "python"
    }
  },
  "cells": [
    {
      "cell_type": "markdown",
      "metadata": {
        "id": "view-in-github",
        "colab_type": "text"
      },
      "source": [
        "<a href=\"https://colab.research.google.com/github/PIYUSH9760/python_classes/blob/main/find_largest.ipynb\" target=\"_parent\"><img src=\"https://colab.research.google.com/assets/colab-badge.svg\" alt=\"Open In Colab\"/></a>"
      ]
    },
    {
      "cell_type": "code",
      "execution_count": 8,
      "metadata": {
        "colab": {
          "base_uri": "https://localhost:8080/"
        },
        "id": "Qu7rSsRzaJ8S",
        "outputId": "77d66269-363b-4ae7-b2a7-94155e29635e"
      },
      "outputs": [
        {
          "output_type": "stream",
          "name": "stdout",
          "text": [
            "Enter a number:1\n",
            "Enter a number:6\n",
            "Enter a number:5\n",
            "Enter a number:7\n",
            "Enter a number:8\n",
            "Enter a number:3\n",
            "Enter a number:57\n",
            "Enter a number:467\n",
            "Enter a number:1654\n",
            "Enter a number:45\n",
            "The Largest number is: 1654\n"
          ]
        }
      ],
      "source": [
        "#Write a function to find the largest of given numbers.\n",
        "def largestnum(list1):\n",
        "  largest=0\n",
        "  for i in list1:\n",
        "    if i>largest:\n",
        "      largest=i\n",
        "  return largest\n",
        "list1=[]\n",
        "for i in range(1,11):\n",
        "    num=int(input(\"Enter a number:\"))\n",
        "    list1.append(num)\n",
        "print(\"The Largest number is:\",largestnum(list1))\n"
      ]
    }
  ]
}