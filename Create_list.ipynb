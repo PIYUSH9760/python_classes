{
  "nbformat": 4,
  "nbformat_minor": 0,
  "metadata": {
    "colab": {
      "provenance": [],
      "authorship_tag": "ABX9TyNb3c95TQdm5QpSxra1KZtx",
      "include_colab_link": true
    },
    "kernelspec": {
      "name": "python3",
      "display_name": "Python 3"
    },
    "language_info": {
      "name": "python"
    }
  },
  "cells": [
    {
      "cell_type": "markdown",
      "metadata": {
        "id": "view-in-github",
        "colab_type": "text"
      },
      "source": [
        "<a href=\"https://colab.research.google.com/github/PIYUSH9760/python_classes/blob/main/Create_list.ipynb\" target=\"_parent\"><img src=\"https://colab.research.google.com/assets/colab-badge.svg\" alt=\"Open In Colab\"/></a>"
      ]
    },
    {
      "cell_type": "code",
      "execution_count": 14,
      "metadata": {
        "colab": {
          "base_uri": "https://localhost:8080/"
        },
        "id": "Qu7rSsRzaJ8S",
        "outputId": "4297cc7d-7f26-4303-c97c-08b2a839868a"
      },
      "outputs": [
        {
          "output_type": "stream",
          "name": "stdout",
          "text": [
            "[1, 2, 3, 4, 5, 6, 7, 8, 9, 10, 11, 12, 13, 14, 15, 16, 17, 18, 19, 20]\n",
            "list_1[0]is odd and is : 1\n",
            "list_1[1]is even and is : 2\n",
            "list_1[2]is odd and is : 3\n",
            "list_1[3]is even and is : 4\n",
            "list_1[4]is odd and is : 5\n",
            "list_1[5]is even and is : 6\n",
            "list_1[6]is odd and is : 7\n",
            "list_1[7]is even and is : 8\n",
            "list_1[8]is odd and is : 9\n",
            "list_1[9]is even and is : 10\n",
            "list_1[10]is odd and is : 11\n",
            "list_1[11]is even and is : 12\n",
            "list_1[12]is odd and is : 13\n",
            "list_1[13]is even and is : 14\n",
            "list_1[14]is odd and is : 15\n",
            "list_1[15]is even and is : 16\n",
            "list_1[16]is odd and is : 17\n",
            "list_1[17]is even and is : 18\n",
            "list_1[18]is odd and is : 19\n",
            "list_1[19]is even and is : 20\n"
          ]
        }
      ],
      "source": [
        "#1. Write a program to append the numbers in a list and after that print whether the numbers are even or odd.\n",
        "list_1=[i for i in range(1,21)]\n",
        "print(list_1)\n",
        "for i in range(0,20):\n",
        "  if list_1[i]%2==0:\n",
        "    print(\"list_1[\"+str(i)+\"]\"+\"is even and is :\",list_1[i])\n",
        "  else:\n",
        "    print(\"list_1[\"+str(i)+\"]\"+\"is odd and is :\",list_1[i])"
      ]
    }
  ]
}