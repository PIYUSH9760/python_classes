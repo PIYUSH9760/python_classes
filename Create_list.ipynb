{
  "nbformat": 4,
  "nbformat_minor": 0,
  "metadata": {
    "colab": {
      "provenance": [],
      "authorship_tag": "ABX9TyMJup6rTmTNIa5psTYI66RP",
      "include_colab_link": true
    },
    "kernelspec": {
      "name": "python3",
      "display_name": "Python 3"
    },
    "language_info": {
      "name": "python"
    }
  },
  "cells": [
    {
      "cell_type": "markdown",
      "metadata": {
        "id": "view-in-github",
        "colab_type": "text"
      },
      "source": [
        "<a href=\"https://colab.research.google.com/github/PIYUSH9760/python_classes/blob/main/Create_list.ipynb\" target=\"_parent\"><img src=\"https://colab.research.google.com/assets/colab-badge.svg\" alt=\"Open In Colab\"/></a>"
      ]
    },
    {
      "cell_type": "code",
      "execution_count": 13,
      "metadata": {
        "colab": {
          "base_uri": "https://localhost:8080/"
        },
        "id": "Qu7rSsRzaJ8S",
        "outputId": "231d10b4-b1b7-4bb8-8a57-0689fa7dfac6"
      },
      "outputs": [
        {
          "output_type": "stream",
          "name": "stdout",
          "text": [
            "Enter number of items in your list:\n",
            "5\n",
            "Enter list[0]:3\n",
            "Enter list[1]:5\n",
            "Enter list[2]:4\n",
            "Enter list[3]:8\n",
            "Enter list[4]:9\n",
            "Your list is:\n",
            " \n",
            "List[0]:3\n",
            "List[1]:5\n",
            "List[2]:4\n",
            "List[3]:8\n",
            "List[4]:9\n"
          ]
        }
      ],
      "source": [
        "#3 Write a program to move through a list\n",
        "n=int(input(\"Enter number of items in your list:\\n\"))\n",
        "my_list=[]\n",
        "for i in range(0,n):\n",
        "  my_list.append(input(\"Enter list\"+\"[\"+str(i)+\"]\"+\":\"))\n",
        "print(\"Your list is:\\n \")\n",
        "for i in range(0,n):\n",
        "  print(\"List\"+\"[\"+str(i)+\"]\"+\":\"+my_list[i])"
      ]
    }
  ]
}