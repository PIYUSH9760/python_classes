{
  "nbformat": 4,
  "nbformat_minor": 0,
  "metadata": {
    "colab": {
      "provenance": [],
      "authorship_tag": "ABX9TyNtJMJ9F/pumoHVvNYn+51B",
      "include_colab_link": true
    },
    "kernelspec": {
      "name": "python3",
      "display_name": "Python 3"
    },
    "language_info": {
      "name": "python"
    }
  },
  "cells": [
    {
      "cell_type": "markdown",
      "metadata": {
        "id": "view-in-github",
        "colab_type": "text"
      },
      "source": [
        "<a href=\"https://colab.research.google.com/github/PIYUSH9760/python_classes/blob/main/CombinedPrograms.ipynb\" target=\"_parent\"><img src=\"https://colab.research.google.com/assets/colab-badge.svg\" alt=\"Open In Colab\"/></a>"
      ]
    },
    {
      "cell_type": "markdown",
      "source": [
        "# Write a programetat takes a positive integer and returs the sum of the cube of all the positive integernsmaller than the specified number"
      ],
      "metadata": {
        "id": "oYgro1rxtKVn"
      }
    },
    {
      "cell_type": "code",
      "execution_count": null,
      "metadata": {
        "colab": {
          "base_uri": "https://localhost:8080/"
        },
        "id": "CbVqsqZWo0lD",
        "outputId": "86e6730d-2b2a-495d-e1f3-f72745aeb07c"
      },
      "outputs": [
        {
          "output_type": "stream",
          "name": "stdout",
          "text": [
            "enter a positive number5\n",
            "100\n"
          ]
        }
      ],
      "source": [
        "# Write a programetat takes a positive integer and returs the sum of the cube of\n",
        "# all the positive integernsmaller than the specified number\n",
        "def cube(n):\n",
        "  sum=0\n",
        "  for i in range(1,n):\n",
        "    sum=sum+(i**3)\n",
        "  print(sum)\n",
        "\n",
        "\n",
        "\n",
        "\n",
        "a=int(input(\"enter a positive number\"))\n",
        "cube(a)"
      ]
    },
    {
      "cell_type": "markdown",
      "source": [
        "#Write a function to print fibonacci series till n numbers."
      ],
      "metadata": {
        "id": "b-PPa6lHtCDp"
      }
    },
    {
      "cell_type": "code",
      "source": [
        "#Write a function to print fibonacci series till n numbers.\n",
        "\n",
        "def fibo(n):\n",
        "  a=0\n",
        "  b=1\n",
        "  print(a)\n",
        "  print(b)\n",
        "  for i in range(1,n):\n",
        "    c=a+b\n",
        "    a=b\n",
        "    b=c\n",
        "    print(c)\n",
        "\n",
        "\n",
        "\n",
        "\n",
        "a=int(input(\"enter any number \"))\n",
        "fibo(a)"
      ],
      "metadata": {
        "colab": {
          "base_uri": "https://localhost:8080/"
        },
        "id": "Jwa_hhlDqiNs",
        "outputId": "02f3ba45-ebc3-48d5-b0fb-0f76790720d4"
      },
      "execution_count": null,
      "outputs": [
        {
          "output_type": "stream",
          "name": "stdout",
          "text": [
            "enter any number 12\n",
            "0\n",
            "1\n",
            "1\n",
            "2\n",
            "3\n",
            "5\n",
            "8\n",
            "13\n",
            "21\n",
            "34\n",
            "55\n",
            "89\n",
            "144\n"
          ]
        }
      ]
    },
    {
      "cell_type": "markdown",
      "source": [],
      "metadata": {
        "id": "OApbQpL8tRAJ"
      }
    },
    {
      "cell_type": "code",
      "source": [
        "#Write a lambda function to find min max from a list\n",
        "\n",
        "\n",
        "def min_max(list_b):\n",
        "  l=len(list_b)\n",
        "  n=1\n",
        "  min=list_b[0]\n",
        "  max=list_b[0]\n",
        "  for i in range(list_b[0],list_b[l-1]):\n",
        "    if min<=list_b[n]:\n",
        "      n+=1\n",
        "    else :\n",
        "      min=list_b[n]\n",
        "    if max>=list_b[n]:\n",
        "      n+=1\n",
        "    else:\n",
        "      max=list_b[n]\n",
        "  print(min)\n",
        "  print(max)\n",
        "\n",
        "\n",
        "\n",
        "list_a=[10,6,8,12,3,11]\n",
        "min_max(list_a)\n"
      ],
      "metadata": {
        "colab": {
          "base_uri": "https://localhost:8080/"
        },
        "id": "4Z6sdv-AsDlo",
        "outputId": "cce1a977-9ea3-4504-9f32-a190f8048179"
      },
      "execution_count": null,
      "outputs": [
        {
          "output_type": "stream",
          "name": "stdout",
          "text": [
            "6\n",
            "10\n"
          ]
        }
      ]
    }
  ]
}