{
  "nbformat": 4,
  "nbformat_minor": 0,
  "metadata": {
    "colab": {
      "provenance": [],
      "authorship_tag": "ABX9TyNnsZhLBIKRpTdrQlB+ylmz",
      "include_colab_link": true
    },
    "kernelspec": {
      "name": "python3",
      "display_name": "Python 3"
    },
    "language_info": {
      "name": "python"
    }
  },
  "cells": [
    {
      "cell_type": "markdown",
      "metadata": {
        "id": "view-in-github",
        "colab_type": "text"
      },
      "source": [
        "<a href=\"https://colab.research.google.com/github/PIYUSH9760/python_classes/blob/main/Practice_2.ipynb\" target=\"_parent\"><img src=\"https://colab.research.google.com/assets/colab-badge.svg\" alt=\"Open In Colab\"/></a>"
      ]
    },
    {
      "cell_type": "code",
      "execution_count": 10,
      "metadata": {
        "colab": {
          "base_uri": "https://localhost:8080/"
        },
        "id": "Ue3avwOryiBb",
        "outputId": "7d1bab4b-a58e-453f-ec9f-d76f5744cd0c"
      },
      "outputs": [
        {
          "output_type": "stream",
          "name": "stdout",
          "text": [
            "enter a string How are you\n",
            "Is How are you\n"
          ]
        }
      ],
      "source": [
        "# Write a Python program to get a newly-generated string from a given string where \"Is\" has been added to the front.\n",
        "#  Return the string unchanged if the given string already begins with \"Is\"\n",
        "\n",
        "#SOLUTION 1\n",
        "a=input(\"enter a string \")\n",
        "if (a.startswith(\"Is\")):\n",
        "  print(a)\n",
        "else:\n",
        "  print(\"Is \"+a)\n"
      ]
    },
    {
      "cell_type": "code",
      "source": [
        "#SOLUTION 2\n",
        "if a[:2]==\"Is\":\n",
        "  print(a)\n",
        "else:\n",
        "  print(\"Is \"+a)"
      ],
      "metadata": {
        "colab": {
          "base_uri": "https://localhost:8080/"
        },
        "id": "DBLQuYsKCr1T",
        "outputId": "3e7eecae-fcc1-4254-97cf-7c86e1e0fdbb"
      },
      "execution_count": 6,
      "outputs": [
        {
          "output_type": "stream",
          "name": "stdout",
          "text": [
            "IsHow are you\n"
          ]
        }
      ]
    }
  ]
}