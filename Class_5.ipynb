{
  "nbformat": 4,
  "nbformat_minor": 0,
  "metadata": {
    "colab": {
      "provenance": [],
      "include_colab_link": true
    },
    "kernelspec": {
      "name": "python3",
      "display_name": "Python 3"
    },
    "language_info": {
      "name": "python"
    }
  },
  "cells": [
    {
      "cell_type": "markdown",
      "metadata": {
        "id": "view-in-github",
        "colab_type": "text"
      },
      "source": [
        "<a href=\"https://colab.research.google.com/github/PIYUSH9760/python_classes/blob/main/Class_5.ipynb\" target=\"_parent\"><img src=\"https://colab.research.google.com/assets/colab-badge.svg\" alt=\"Open In Colab\"/></a>"
      ]
    },
    {
      "cell_type": "code",
      "execution_count": null,
      "metadata": {
        "id": "T9RafyMW6gYG"
      },
      "outputs": [],
      "source": [
        "#Create two classes for the same object. The Class is student, the second class is member.You have to pass student details.\n",
        "#Print the results from both classes using only a single object."
      ]
    },
    {
      "cell_type": "code",
      "source": [
        "class student:\n",
        "  def __init__(self,name,ID):\n",
        "    self.n=name\n",
        "    self.I=ID\n",
        "    self.m=self.member()\n",
        "  def details(self):\n",
        "    print(\"Name:\",self.n)\n",
        "    print(\"Sap ID:\",self.I)\n",
        "  class member:\n",
        "    def __init__(self):\n",
        "      self.club=\"Football association of UPES\"\n",
        "      self.year=1998\n",
        "    def club_details(self):\n",
        "      print(\"Club:\",self.club)\n",
        "      print(\"Year established:\",self.year)\n",
        "\n",
        "S1=student(\"Piyush\",1988)\n",
        "S1.details()\n",
        "S1.m.club_details()\n",
        "\n",
        "\n"
      ],
      "metadata": {
        "colab": {
          "base_uri": "https://localhost:8080/"
        },
        "id": "fx7YR-Me7j_a",
        "outputId": "517efa10-6bd2-4049-ec5f-b4505ccd3834"
      },
      "execution_count": 1,
      "outputs": [
        {
          "output_type": "stream",
          "name": "stdout",
          "text": [
            "Name: Piyush\n",
            "Sap ID: 1988\n",
            "Club: Football association of UPES\n",
            "Year established: 1998\n"
          ]
        }
      ]
    },
    {
      "cell_type": "code",
      "source": [
        "#Write a program to create a rectangle class that consists of two methods or functions."
      ],
      "metadata": {
        "id": "CTI2efzwCbHT"
      },
      "execution_count": null,
      "outputs": []
    },
    {
      "cell_type": "code",
      "source": [
        "class Rectangle:\n",
        "  def __init__(self,l,b):\n",
        "    self.l=l\n",
        "    self.b=b\n",
        "    self.p=self.Inner()\n",
        "  def Area(self):\n",
        "    print(\"The Area of the Rectangle is:\",self.l*self.b)\n",
        "  class Inner:\n",
        "    def __init__(self):\n",
        "      self.l=l\n",
        "      self.b=b\n",
        "    def perimeter(self):\n",
        "      print(\"The perimeter of the Rectangle is:\",2*(self.l+self.b))\n",
        "\n",
        "l=int(input(\"Enter length:\"))\n",
        "b=int(input(\"Enter breadth:\"))\n",
        "R1=Rectangle(l,b)\n",
        "R1.Area()\n",
        "R1.p.perimeter()"
      ],
      "metadata": {
        "colab": {
          "base_uri": "https://localhost:8080/"
        },
        "id": "e6ZsBrGSCm5B",
        "outputId": "ca30d585-2f5f-4d08-c29f-646802376480"
      },
      "execution_count": null,
      "outputs": [
        {
          "output_type": "stream",
          "name": "stdout",
          "text": [
            "Enter length:5\n",
            "Enter breadth:10\n",
            "The Area of the Rectangle is: 50\n",
            "The perimeter of the Rectangle is: 30\n"
          ]
        }
      ]
    }
  ]
}