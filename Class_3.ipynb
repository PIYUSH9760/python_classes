{
  "nbformat": 4,
  "nbformat_minor": 0,
  "metadata": {
    "colab": {
      "provenance": [],
      "include_colab_link": true
    },
    "kernelspec": {
      "name": "python3",
      "display_name": "Python 3"
    },
    "language_info": {
      "name": "python"
    }
  },
  "cells": [
    {
      "cell_type": "markdown",
      "metadata": {
        "id": "view-in-github",
        "colab_type": "text"
      },
      "source": [
        "<a href=\"https://colab.research.google.com/github/PIYUSH9760/python_classes/blob/main/Class_3.ipynb\" target=\"_parent\"><img src=\"https://colab.research.google.com/assets/colab-badge.svg\" alt=\"Open In Colab\"/></a>"
      ]
    },
    {
      "cell_type": "code",
      "execution_count": null,
      "metadata": {
        "colab": {
          "base_uri": "https://localhost:8080/"
        },
        "id": "3b0lq6KM-Tco",
        "outputId": "2ba55ccf-81aa-4b97-be97-d67baa45de0a"
      },
      "outputs": [
        {
          "output_type": "stream",
          "name": "stdout",
          "text": [
            "[2, 4, 6, 8, 10, 12]\n",
            "[1, 3, 5, 7, 9, 11, 13]\n"
          ]
        }
      ],
      "source": [
        "#passing lists to functions\n",
        "#filter(function,iterator)\n",
        "#map()\n",
        "#reduce()\n",
        "list_1=[1,2,3,4,5,6,7,8,9,10,11,12,13]\n",
        "list_even=list(filter(lambda n:n%2==0,list_1))  #typecast because it returns a sequence.\n",
        "print(list_even)\n",
        "list_odd=list(filter(lambda n:n%2==1,list_1))\n",
        "print(list_odd)\n",
        "\n"
      ]
    },
    {
      "cell_type": "code",
      "source": [
        "#map() function\n",
        "#map(function,iterator)\n",
        "def update(n):\n",
        "  return n*2\n",
        "list_even_updated=list(map(update,list_even))\n",
        "print(list_even_updated)\n",
        "list_3=list(map(lambda n:n*2,list_even))\n",
        "print(list_3)"
      ],
      "metadata": {
        "colab": {
          "base_uri": "https://localhost:8080/"
        },
        "id": "xPCy-OduCjqw",
        "outputId": "3bb92dad-7bb2-4aba-9129-14eb85945905"
      },
      "execution_count": null,
      "outputs": [
        {
          "output_type": "stream",
          "name": "stdout",
          "text": [
            "[4, 8, 12, 16, 20, 24]\n",
            "[4, 8, 12, 16, 20, 24]\n"
          ]
        }
      ]
    },
    {
      "cell_type": "code",
      "source": [
        "#reduce() function\n",
        "#reduce(function,iterator)\n",
        "from functools import reduce\n",
        "def adding(a,b):\n",
        "  return a+b\n",
        "sum=reduce(adding,list_3)\n",
        "print(sum)\n",
        "sum=reduce(lambda a,b:a+b,list_3)\n",
        "print(sum)"
      ],
      "metadata": {
        "colab": {
          "base_uri": "https://localhost:8080/"
        },
        "id": "524NzfphExcZ",
        "outputId": "8fb08233-042e-42c1-ad34-0cadf53107d2"
      },
      "execution_count": null,
      "outputs": [
        {
          "output_type": "stream",
          "name": "stdout",
          "text": [
            "84\n",
            "84\n"
          ]
        }
      ]
    },
    {
      "cell_type": "code",
      "source": [
        "#Write a program to find number of even and odd numbers in a list.\n",
        "list1=[1,2,3,4,5,6,7,8,9,10,11,12,13,14,15,16]\n",
        "list_even=list(filter(lambda n:n%2==0,list1))\n",
        "print(\"The number of even numbers in the list is:\",len(list_even))\n",
        "list_odd=list(filter(lambda n:n%2==1,list1))\n",
        "print(\"The number of odd numbers in the list is:\",len(list_odd))"
      ],
      "metadata": {
        "colab": {
          "base_uri": "https://localhost:8080/"
        },
        "id": "WT_G_EpoHQZv",
        "outputId": "be2f16cb-17ef-4578-d19f-abf87860cd6d"
      },
      "execution_count": null,
      "outputs": [
        {
          "output_type": "stream",
          "name": "stdout",
          "text": [
            "The number of even numbers in the list is: 8\n",
            "The number of odd numbers in the list is: 8\n"
          ]
        }
      ]
    },
    {
      "cell_type": "code",
      "source": [
        "#Write a program to find number of even and odd numbers in a list.\n",
        "list1=[1,2,3,4,5,6,7,8,9,10,11,12,13,14,15,16]\n",
        "def even(n):\n",
        "  return n%2==0\n",
        "def odd(n):\n",
        "  return n%2==1\n",
        "list_even=list(filter(even,list1))\n",
        "print(\"The number of even numbers in the list is:\",len(list_even))\n",
        "list_odd=list(filter(odd,list1))\n",
        "print(\"The number of odd numbers in the list is:\",len(list_odd))"
      ],
      "metadata": {
        "colab": {
          "base_uri": "https://localhost:8080/"
        },
        "id": "gUZcHmIVImAc",
        "outputId": "087247a2-636c-4364-e0c0-d5193f621cd6"
      },
      "execution_count": null,
      "outputs": [
        {
          "output_type": "stream",
          "name": "stdout",
          "text": [
            "The number of even numbers in the list is: 8\n",
            "The number of odd numbers in the list is: 8\n"
          ]
        }
      ]
    },
    {
      "cell_type": "code",
      "source": [
        "#Write a program to find number of even and odd numbers in a list.\n",
        "def count(list):\n",
        "  even=0\n",
        "  odd=0\n",
        "  for i in list:\n",
        "    if i%2==0:\n",
        "      even+=1\n",
        "    else:\n",
        "      odd+=1\n",
        "  return even,odd\n",
        "even=count(list1)\n",
        "print(even,odd)\n",
        "print(f\"even numbers are {even} and odd numbers are {odd}\")\n"
      ],
      "metadata": {
        "colab": {
          "base_uri": "https://localhost:8080/"
        },
        "id": "oEjljMY-JWg4",
        "outputId": "b82aa876-22f3-4e48-b092-06d6e51dc15a"
      },
      "execution_count": null,
      "outputs": [
        {
          "output_type": "stream",
          "name": "stdout",
          "text": [
            "(8, 8) 8\n",
            "even numbers are (8, 8) and odd numbers are 8\n"
          ]
        }
      ]
    },
    {
      "cell_type": "code",
      "source": [],
      "metadata": {
        "id": "aqXcbO3iON38"
      },
      "execution_count": null,
      "outputs": []
    }
  ]
}