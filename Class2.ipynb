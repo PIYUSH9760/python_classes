{
  "nbformat": 4,
  "nbformat_minor": 0,
  "metadata": {
    "colab": {
      "provenance": [],
      "include_colab_link": true
    },
    "kernelspec": {
      "name": "python3",
      "display_name": "Python 3"
    },
    "language_info": {
      "name": "python"
    }
  },
  "cells": [
    {
      "cell_type": "markdown",
      "metadata": {
        "id": "view-in-github",
        "colab_type": "text"
      },
      "source": [
        "<a href=\"https://colab.research.google.com/github/PIYUSH9760/python_classes/blob/main/Class2.ipynb\" target=\"_parent\"><img src=\"https://colab.research.google.com/assets/colab-badge.svg\" alt=\"Open In Colab\"/></a>"
      ]
    },
    {
      "cell_type": "markdown",
      "source": [
        "Class_03_02_2024\n"
      ],
      "metadata": {
        "id": "B_I9Nsi_HbPN"
      }
    },
    {
      "cell_type": "code",
      "execution_count": null,
      "metadata": {
        "colab": {
          "base_uri": "https://localhost:8080/"
        },
        "id": "GDLP6rPEGBwU",
        "outputId": "a6c5964e-f2e6-4e72-a3af-7cf20f12773b"
      },
      "outputs": [
        {
          "output_type": "stream",
          "name": "stdout",
          "text": [
            "[98, 2, 44, 5, 5, 1]\n"
          ]
        }
      ],
      "source": [
        "#Write a python program to swap the first and last element of the list containing integers.\n",
        "list1=[1,2,44,5,5,98]\n",
        "temp=list1[0]\n",
        "list1[0]=list1[-1]\n",
        "list1[-1]=temp\n",
        "print(list1)\n"
      ]
    },
    {
      "cell_type": "code",
      "source": [
        "#Write a python program to swap the first and last element of the list containing strings.\n",
        "list1=[\"PIYUSH\",\"Hello\",\"World\",\"Awesome\",\"Nautiyal\"]\n",
        "temp=list1[0]\n",
        "list1[0]=list1[-1]\n",
        "list1[-1]=temp\n",
        "print(list1)"
      ],
      "metadata": {
        "colab": {
          "base_uri": "https://localhost:8080/"
        },
        "id": "ldinT8dAU3Rh",
        "outputId": "a7ad3b6e-cf06-4347-cf5c-2b3243af5273"
      },
      "execution_count": 1,
      "outputs": [
        {
          "output_type": "stream",
          "name": "stdout",
          "text": [
            "['Nautiyal', 'Hello', 'World', 'Awesome', 'PIYUSH']\n"
          ]
        }
      ]
    },
    {
      "cell_type": "code",
      "source": [
        "#Write a program to create a list that stores only the prime numbers.\n",
        "list2=[i for i in range(1,101)]\n",
        "list3=[]\n",
        "for i in list2:\n",
        "  if i==1:\n",
        "    list3.append(i)\n",
        "  elif i%2==0 or i%5==0 or i%3==0 or i%7==0 :\n",
        "    continue\n",
        "  else:\n",
        "    list3.append(i)\n",
        "print(list3)\n",
        "\n"
      ],
      "metadata": {
        "colab": {
          "base_uri": "https://localhost:8080/"
        },
        "id": "gIO7o4QsRe4f",
        "outputId": "bf8b10ec-c65c-4ef2-c194-1e48751b2dbd"
      },
      "execution_count": null,
      "outputs": [
        {
          "output_type": "stream",
          "name": "stdout",
          "text": [
            "[1, 11, 13, 17, 19, 23, 29, 31, 37, 41, 43, 47, 53, 59, 61, 67, 71, 73, 79, 83, 89, 97]\n"
          ]
        }
      ]
    },
    {
      "cell_type": "code",
      "source": [
        "#Write a python program to insert random numbers in a list and find the largest number.\n",
        "list4=[]\n",
        "for i in range(1,11):\n",
        "   num=int(input(\"Enter a number:\"))\n",
        "   list4.append(num)\n",
        "largest=0\n",
        "for i in list4:\n",
        "  if i>largest:\n",
        "    largest=i\n",
        "print(\"The Largest number is:\",largest)"
      ],
      "metadata": {
        "colab": {
          "base_uri": "https://localhost:8080/"
        },
        "id": "4TLi-zAwT0CB",
        "outputId": "e79cb82b-f529-48fa-d62c-7da044055a1a"
      },
      "execution_count": null,
      "outputs": [
        {
          "output_type": "stream",
          "name": "stdout",
          "text": [
            "Enter a number:23\n",
            "Enter a number:33\n",
            "Enter a number:454\n",
            "Enter a number:66\n",
            "Enter a number:77\n",
            "Enter a number:89\n",
            "Enter a number:98\n",
            "Enter a number:23\n",
            "Enter a number:23\n",
            "Enter a number:44\n",
            "454\n"
          ]
        }
      ]
    }
  ]
}