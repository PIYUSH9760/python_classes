{
  "nbformat": 4,
  "nbformat_minor": 0,
  "metadata": {
    "colab": {
      "provenance": [],
      "authorship_tag": "ABX9TyMFPsFNKn9squBJvQ1nriw+",
      "include_colab_link": true
    },
    "kernelspec": {
      "name": "python3",
      "display_name": "Python 3"
    },
    "language_info": {
      "name": "python"
    }
  },
  "cells": [
    {
      "cell_type": "markdown",
      "metadata": {
        "id": "view-in-github",
        "colab_type": "text"
      },
      "source": [
        "<a href=\"https://colab.research.google.com/github/PIYUSH9760/python_classes/blob/main/Practice_10.ipynb\" target=\"_parent\"><img src=\"https://colab.research.google.com/assets/colab-badge.svg\" alt=\"Open In Colab\"/></a>"
      ]
    },
    {
      "cell_type": "code",
      "execution_count": 2,
      "metadata": {
        "id": "pZslbaJzB8GR",
        "colab": {
          "base_uri": "https://localhost:8080/"
        },
        "outputId": "9a77faed-5997-49b1-bb13-b61d3d82f134"
      },
      "outputs": [
        {
          "output_type": "stream",
          "name": "stdout",
          "text": [
            "386\n",
            "462\n",
            "418\n",
            "344\n",
            "236\n",
            "566\n",
            "978\n",
            "328\n",
            "162\n",
            "758\n",
            "918\n",
            "237\n"
          ]
        }
      ],
      "source": [
        "#Write a Python program that concatenates all elements in a list into a string and returns it.\n",
        "\n",
        "def Concatenate (lst):\n",
        "\n",
        "  result = ''\n",
        "\n",
        "  for element in lst:\n",
        "        result += str(element)\n",
        "\n",
        "  return result\n",
        "\n",
        "print(Concatenate([1, 5, 12, 2]))\n",
        "print(Concatenate([2,5,6,7]))"
      ]
    }
  ]
}