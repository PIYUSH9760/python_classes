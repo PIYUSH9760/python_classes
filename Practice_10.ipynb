{
  "nbformat": 4,
  "nbformat_minor": 0,
  "metadata": {
    "colab": {
      "provenance": [],
      "authorship_tag": "ABX9TyMFPsFNKn9squBJvQ1nriw+",
      "include_colab_link": true
    },
    "kernelspec": {
      "name": "python3",
      "display_name": "Python 3"
    },
    "language_info": {
      "name": "python"
    }
  },
  "cells": [
    {
      "cell_type": "markdown",
      "metadata": {
        "id": "view-in-github",
        "colab_type": "text"
      },
      "source": [
        "<a href=\"https://colab.research.google.com/github/PIYUSH9760/python_classes/blob/main/Practice_10.ipynb\" target=\"_parent\"><img src=\"https://colab.research.google.com/assets/colab-badge.svg\" alt=\"Open In Colab\"/></a>"
      ]
    },
    {
      "cell_type": "code",
      "execution_count": 23,
      "metadata": {
        "id": "pZslbaJzB8GR",
        "colab": {
          "base_uri": "https://localhost:8080/"
        },
        "outputId": "6b592324-ae92-4f6b-97bd-82c79846da79"
      },
      "outputs": [
        {
          "output_type": "stream",
          "name": "stdout",
          "text": [
            "15122\n",
            "2567\n"
          ]
        }
      ],
      "source": [
        "#Write a Python program that concatenates all elements in a list into a string and returns it.\n",
        "\n",
        "def Concatenate (lst):\n",
        "\n",
        "  result = ''\n",
        "\n",
        "  for element in lst:\n",
        "        result += str(element)\n",
        "\n",
        "  return result\n",
        "\n",
        "print(Concatenate([1, 5, 12, 2]))\n",
        "print(Concatenate([2,5,6,7]))"
      ]
    }
  ]
}