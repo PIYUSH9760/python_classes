{
  "nbformat": 4,
  "nbformat_minor": 0,
  "metadata": {
    "colab": {
      "provenance": [],
      "authorship_tag": "ABX9TyOWNQMPI9TYvVRvL/xtX1hL",
      "include_colab_link": true
    },
    "kernelspec": {
      "name": "python3",
      "display_name": "Python 3"
    },
    "language_info": {
      "name": "python"
    }
  },
  "cells": [
    {
      "cell_type": "markdown",
      "metadata": {
        "id": "view-in-github",
        "colab_type": "text"
      },
      "source": [
        "<a href=\"https://colab.research.google.com/github/PIYUSH9760/python_classes/blob/main/Practice_7.ipynb\" target=\"_parent\"><img src=\"https://colab.research.google.com/assets/colab-badge.svg\" alt=\"Open In Colab\"/></a>"
      ]
    },
    {
      "cell_type": "code",
      "execution_count": 13,
      "metadata": {
        "id": "pZslbaJzB8GR",
        "colab": {
          "base_uri": "https://localhost:8080/"
        },
        "outputId": "6763c0fb-015c-44a0-9271-f0e172dd26ba"
      },
      "outputs": [
        {
          "output_type": "stream",
          "name": "stdout",
          "text": [
            "True\n",
            "False\n"
          ]
        }
      ],
      "source": [
        "# Write a  Python program to test whether a passed letter is a vowel or not.\n",
        "\n",
        "def checker(char):\n",
        "  all_vowels='aeiou'\n",
        "  return char in all_vowels\n",
        "\n",
        "print(checker('e'))\n",
        "print(checker('f'))\n"
      ]
    },
    {
      "cell_type": "code",
      "source": [
        "# Solution 2\n",
        "\n",
        "char= input(\"enter the character to be checked \")\n",
        "vowels='aeiou'\n",
        "count=0\n",
        "for i in vowels:\n",
        "  if char==i:\n",
        "    count+=1\n",
        "if count == 1:\n",
        "  print(\"true\")\n",
        "else :\n",
        "  print(\"false\")"
      ],
      "metadata": {
        "colab": {
          "base_uri": "https://localhost:8080/"
        },
        "id": "b2bu8TRri28z",
        "outputId": "cfba9046-cce3-487f-d26e-d7f7022107a8"
      },
      "execution_count": 18,
      "outputs": [
        {
          "output_type": "stream",
          "name": "stdout",
          "text": [
            "enter the character to be checked a\n",
            "true\n"
          ]
        }
      ]
    }
  ]
}