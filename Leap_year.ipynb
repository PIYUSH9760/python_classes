{
  "nbformat": 4,
  "nbformat_minor": 0,
  "metadata": {
    "colab": {
      "provenance": [],
      "authorship_tag": "ABX9TyPGR28KP8+GvmZx9pfoBtHZ",
      "include_colab_link": true
    },
    "kernelspec": {
      "name": "python3",
      "display_name": "Python 3"
    },
    "language_info": {
      "name": "python"
    }
  },
  "cells": [
    {
      "cell_type": "markdown",
      "metadata": {
        "id": "view-in-github",
        "colab_type": "text"
      },
      "source": [
        "<a href=\"https://colab.research.google.com/github/PIYUSH9760/python_classes/blob/main/Leap_year.ipynb\" target=\"_parent\"><img src=\"https://colab.research.google.com/assets/colab-badge.svg\" alt=\"Open In Colab\"/></a>"
      ]
    },
    {
      "cell_type": "code",
      "execution_count": 10,
      "metadata": {
        "colab": {
          "base_uri": "https://localhost:8080/"
        },
        "id": "Qu7rSsRzaJ8S",
        "outputId": "f860df9f-3be6-4642-aeab-33b162cdce40"
      },
      "outputs": [
        {
          "output_type": "stream",
          "name": "stdout",
          "text": [
            "Enter a number:\n",
            "5\n",
            "Multiplication table of  5\n",
            "5X1:5\n",
            "5X2:10\n",
            "5X3:15\n",
            "5X4:20\n",
            "5X5:25\n",
            "5X6:30\n",
            "5X7:35\n",
            "5X8:40\n",
            "5X9:45\n",
            "5X10:50\n"
          ]
        }
      ],
      "source": [
        "#Write a python program to display the multiplication table.(Use input function and for loop)\n",
        "num=int(input(\"Enter a number:\\n\"))\n",
        "print(\"Multiplication table of \",num)\n",
        "for i in range(1,11):\n",
        "  print(str(num)+\"X\"+str(i)+\":\"+str(num*i))\n",
        "  int(num)\n",
        "  int(i)"
      ]
    }
  ]
}