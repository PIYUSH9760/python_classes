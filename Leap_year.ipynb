{
  "nbformat": 4,
  "nbformat_minor": 0,
  "metadata": {
    "colab": {
      "provenance": [],
      "authorship_tag": "ABX9TyO6hSFXxnjgMgDcV95gS7mF",
      "include_colab_link": true
    },
    "kernelspec": {
      "name": "python3",
      "display_name": "Python 3"
    },
    "language_info": {
      "name": "python"
    }
  },
  "cells": [
    {
      "cell_type": "markdown",
      "metadata": {
        "id": "view-in-github",
        "colab_type": "text"
      },
      "source": [
        "<a href=\"https://colab.research.google.com/github/PIYUSH9760/python_classes/blob/main/Leap_year.ipynb\" target=\"_parent\"><img src=\"https://colab.research.google.com/assets/colab-badge.svg\" alt=\"Open In Colab\"/></a>"
      ]
    },
    {
      "cell_type": "code",
      "execution_count": 9,
      "metadata": {
        "colab": {
          "base_uri": "https://localhost:8080/"
        },
        "id": "Qu7rSsRzaJ8S",
        "outputId": "265e1ca6-05d5-43bc-95df-8ff586c13314"
      },
      "outputs": [
        {
          "output_type": "stream",
          "name": "stdout",
          "text": [
            "Enter year:2024\n",
            "2024 is a Leap Year.\n"
          ]
        }
      ],
      "source": [
        "#Write a function to check whether a given year is a leap year or not.\n",
        "def leapyear(num):\n",
        "  if num%4==0 and num%100!=0 or num%400==0:\n",
        "    print(num,\"is a Leap Year.\")\n",
        "  else:\n",
        "    print(num,\"is not a Leap Year.\")\n",
        "num=int(input(\"Enter year:\"))\n",
        "leapyear(num)"
      ]
    }
  ]
}